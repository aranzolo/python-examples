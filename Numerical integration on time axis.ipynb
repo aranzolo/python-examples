{
 "cells": [
  {
   "cell_type": "markdown",
   "metadata": {},
   "source": [
    "# Numerical integration on time axis"
   ]
  },
  {
   "cell_type": "markdown",
   "metadata": {},
   "source": [
    "A series of values, measurements of photosynthesis, need to be integrated using the trapezoid integration rule.\n",
    "\n",
    "The values are located along a time-aware x-axis, but their interval is irregular.\n",
    "\n",
    "The photosynthesis measurements are given in _assimilation rate_, with units $[ \\mu mol \\cdot m^{-2} \\cdot s{-1} ]$, micromol of $CO_2$ per leaf unit area.\n",
    "\n",
    "We would like to estimate the amount of $CO_2$ that was assimilated (per squared meter) in total every hour, 5 values in total, with units $ [ \\mu mol \\cdot m^{-2} ] $."
   ]
  },
  {
   "cell_type": "code",
   "execution_count": 27,
   "metadata": {},
   "outputs": [],
   "source": [
    "%matplotlib inline\n",
    "import numpy as np\n",
    "import pandas as pd\n",
    "import matplotlib.pyplot as plt\n",
    "import matplotlib.dates as mdates\n",
    "\n",
    "from scipy import integrate"
   ]
  },
  {
   "cell_type": "markdown",
   "metadata": {},
   "source": [
    "## Create a pandas Data Frame with measurements of photosynthesis (alternatively, read from the csv file)"
   ]
  },
  {
   "cell_type": "code",
   "execution_count": 12,
   "metadata": {},
   "outputs": [],
   "source": [
    "import io"
   ]
  },
  {
   "cell_type": "code",
   "execution_count": 23,
   "metadata": {},
   "outputs": [],
   "source": [
    "data = io.StringIO('''\n",
    "timestamp,net photosynthesis\n",
    "2018-02-07 12:36:43,-0.39879438321884403\n",
    "2018-02-07 12:51:12,0.135978128426891\n",
    "2018-02-07 12:56:13,-0.7930846441359749\n",
    "2018-02-07 13:01:14,-0.590648929656498\n",
    "2018-02-07 13:06:15,-0.19000606536865197\n",
    "2018-02-07 13:11:16,0.0244729995727539\n",
    "2018-02-07 13:16:17,0.26532832278481\n",
    "2018-02-07 13:21:18,0.620115407307943\n",
    "2018-02-07 13:26:19,0.723084316977972\n",
    "2018-02-07 13:31:20,0.8460396875309041\n",
    "2018-02-07 13:36:21,0.788240892404995\n",
    "2018-02-07 13:41:22,1.74539465525794\n",
    "2018-02-07 13:46:24,1.6528649708581298\n",
    "2018-02-07 13:51:24,1.05855694939108\n",
    "2018-02-07 13:56:24,0.8644795235388921\n",
    "2018-02-07 14:01:24,1.0434821863144\n",
    "2018-02-07 14:06:25,1.18902273396499\n",
    "2018-02-07 14:11:26,1.4160893696560999\n",
    "2018-02-07 14:16:27,1.34536169744601\n",
    "2018-02-07 14:21:28,1.3675988769531298\n",
    "2018-02-07 14:26:29,1.38999702331217\n",
    "2018-02-07 14:31:30,1.27859877321286\n",
    "2018-02-07 14:36:31,1.10195971446432\n",
    "2018-02-07 14:41:32,0.230423651801215\n",
    "2018-02-07 14:46:33,-0.0254839418795162\n",
    "2018-02-07 14:51:34,-0.28555815386924\n",
    "2018-02-07 14:56:35,-0.4418415292723929\n",
    "2018-02-07 15:01:36,-0.144865578355881\n",
    "2018-02-07 15:06:37,0.20654406213456697\n",
    "2018-02-07 15:11:38,0.706924200057983\n",
    "2018-02-07 15:16:39,0.83824196618272\n",
    "2018-02-07 15:21:40,1.24323024871243\n",
    "2018-02-07 15:26:41,2.1558448680933\n",
    "2018-02-07 15:31:42,2.06717011422822\n",
    "2018-02-07 15:36:42,1.9732468433869197\n",
    "2018-02-07 15:41:42,1.99311330694901\n",
    "2018-02-07 15:46:42,1.78377289214692\n",
    "2018-02-07 15:51:42,1.3987265882400701\n",
    "2018-02-07 15:56:42,0.9771203534779441\n",
    "2018-02-07 16:01:42,0.9901481777180541\n",
    "2018-02-07 16:06:43,0.9754457321410741\n",
    "2018-02-07 16:11:44,0.965479273704966\n",
    "2018-02-07 16:16:45,0.9835105325376559\n",
    "2018-02-07 16:21:46,0.871787464275909\n",
    "''')"
   ]
  },
  {
   "cell_type": "code",
   "execution_count": 24,
   "metadata": {},
   "outputs": [
    {
     "data": {
      "text/html": [
       "<div>\n",
       "<style scoped>\n",
       "    .dataframe tbody tr th:only-of-type {\n",
       "        vertical-align: middle;\n",
       "    }\n",
       "\n",
       "    .dataframe tbody tr th {\n",
       "        vertical-align: top;\n",
       "    }\n",
       "\n",
       "    .dataframe thead th {\n",
       "        text-align: right;\n",
       "    }\n",
       "</style>\n",
       "<table border=\"1\" class=\"dataframe\">\n",
       "  <thead>\n",
       "    <tr style=\"text-align: right;\">\n",
       "      <th></th>\n",
       "      <th>timestamp</th>\n",
       "      <th>net photosynthesis</th>\n",
       "    </tr>\n",
       "  </thead>\n",
       "  <tbody>\n",
       "    <tr>\n",
       "      <th>0</th>\n",
       "      <td>2018-02-07 12:36:43</td>\n",
       "      <td>-0.398794</td>\n",
       "    </tr>\n",
       "    <tr>\n",
       "      <th>1</th>\n",
       "      <td>2018-02-07 12:51:12</td>\n",
       "      <td>0.135978</td>\n",
       "    </tr>\n",
       "    <tr>\n",
       "      <th>2</th>\n",
       "      <td>2018-02-07 12:56:13</td>\n",
       "      <td>-0.793085</td>\n",
       "    </tr>\n",
       "    <tr>\n",
       "      <th>3</th>\n",
       "      <td>2018-02-07 13:01:14</td>\n",
       "      <td>-0.590649</td>\n",
       "    </tr>\n",
       "    <tr>\n",
       "      <th>4</th>\n",
       "      <td>2018-02-07 13:06:15</td>\n",
       "      <td>-0.190006</td>\n",
       "    </tr>\n",
       "  </tbody>\n",
       "</table>\n",
       "</div>"
      ],
      "text/plain": [
       "            timestamp  net photosynthesis\n",
       "0 2018-02-07 12:36:43           -0.398794\n",
       "1 2018-02-07 12:51:12            0.135978\n",
       "2 2018-02-07 12:56:13           -0.793085\n",
       "3 2018-02-07 13:01:14           -0.590649\n",
       "4 2018-02-07 13:06:15           -0.190006"
      ]
     },
     "execution_count": 24,
     "metadata": {},
     "output_type": "execute_result"
    }
   ],
   "source": [
    "df = pd.read_csv( data, parse_dates=['timestamp'] )\n",
    "\n",
    "df.head()"
   ]
  },
  {
   "cell_type": "markdown",
   "metadata": {},
   "source": [
    "## Set index to be time-aware, instead of the row number."
   ]
  },
  {
   "cell_type": "code",
   "execution_count": 25,
   "metadata": {},
   "outputs": [
    {
     "data": {
      "text/html": [
       "<div>\n",
       "<style scoped>\n",
       "    .dataframe tbody tr th:only-of-type {\n",
       "        vertical-align: middle;\n",
       "    }\n",
       "\n",
       "    .dataframe tbody tr th {\n",
       "        vertical-align: top;\n",
       "    }\n",
       "\n",
       "    .dataframe thead th {\n",
       "        text-align: right;\n",
       "    }\n",
       "</style>\n",
       "<table border=\"1\" class=\"dataframe\">\n",
       "  <thead>\n",
       "    <tr style=\"text-align: right;\">\n",
       "      <th></th>\n",
       "      <th>net photosynthesis</th>\n",
       "    </tr>\n",
       "    <tr>\n",
       "      <th>timestamp</th>\n",
       "      <th></th>\n",
       "    </tr>\n",
       "  </thead>\n",
       "  <tbody>\n",
       "    <tr>\n",
       "      <th>2018-02-07 12:36:43</th>\n",
       "      <td>-0.398794</td>\n",
       "    </tr>\n",
       "    <tr>\n",
       "      <th>2018-02-07 12:51:12</th>\n",
       "      <td>0.135978</td>\n",
       "    </tr>\n",
       "    <tr>\n",
       "      <th>2018-02-07 12:56:13</th>\n",
       "      <td>-0.793085</td>\n",
       "    </tr>\n",
       "    <tr>\n",
       "      <th>2018-02-07 13:01:14</th>\n",
       "      <td>-0.590649</td>\n",
       "    </tr>\n",
       "    <tr>\n",
       "      <th>2018-02-07 13:06:15</th>\n",
       "      <td>-0.190006</td>\n",
       "    </tr>\n",
       "  </tbody>\n",
       "</table>\n",
       "</div>"
      ],
      "text/plain": [
       "                     net photosynthesis\n",
       "timestamp                              \n",
       "2018-02-07 12:36:43           -0.398794\n",
       "2018-02-07 12:51:12            0.135978\n",
       "2018-02-07 12:56:13           -0.793085\n",
       "2018-02-07 13:01:14           -0.590649\n",
       "2018-02-07 13:06:15           -0.190006"
      ]
     },
     "execution_count": 25,
     "metadata": {},
     "output_type": "execute_result"
    }
   ],
   "source": [
    "df.set_index( 'timestamp', inplace=True )\n",
    "\n",
    "df.head()"
   ]
  },
  {
   "cell_type": "code",
   "execution_count": 26,
   "metadata": {},
   "outputs": [
    {
     "data": {
      "text/plain": [
       "(Timestamp('2018-02-07 12:36:43'), Timestamp('2018-02-07 16:21:46'))"
      ]
     },
     "execution_count": 26,
     "metadata": {},
     "output_type": "execute_result"
    }
   ],
   "source": [
    "df.index.min(), df.index.max()"
   ]
  },
  {
   "cell_type": "code",
   "execution_count": null,
   "metadata": {},
   "outputs": [],
   "source": [
    "integrate.trapz"
   ]
  },
  {
   "cell_type": "markdown",
   "metadata": {},
   "source": [
    "## Graph to check the data"
   ]
  },
  {
   "cell_type": "code",
   "execution_count": 68,
   "metadata": {},
   "outputs": [
    {
     "data": {
      "image/png": "[encoded data removed]",
      "text/plain": [
       "<matplotlib.figure.Figure at 0x7f262c01b6a0>"
      ]
     },
     "metadata": {},
     "output_type": "display_data"
    }
   ],
   "source": [
    "fig, ax = plt.subplots( figsize=( 20,7 ) )\n",
    "\n",
    "ax.hlines( 0, df.index.min(), df.index.max(), color='black', linewidth=3, label='' ) # horizontal axis\n",
    "\n",
    "ax.plot( df.index, df['net photosynthesis'], linewidth=3, color='green', label='' )\n",
    "ax.plot( df.index, df['net photosynthesis'], linewidth=0, marker='o', markersize=10, color='black', label='measurements' )\n",
    "ax.vlines( df.index, df['net photosynthesis'], 0, linewidth=0.5, label='' )\n",
    "\n",
    "ax.hlines( df['net photosynthesis'].mean(), df.index.min(), df.index.max(), color='red', linestyle='--', linewidth=3, label='overall mean' )\n",
    "\n",
    "\n",
    "ax.xaxis.set_major_locator( mdates.HourLocator() )\n",
    "ax.xaxis.set_major_formatter( mdates.DateFormatter('%H:%M') )\n",
    "ax.tick_params( axis='both', which='major', labelsize=16 )\n",
    "\n",
    "ax.legend( fontsize=16 )\n",
    "ax.grid()\n",
    "\n",
    "plt.show()"
   ]
  },
  {
   "cell_type": "markdown",
   "metadata": {},
   "source": [
    "## Integrate using `scipy.integrate.trapz`"
   ]
  },
  {
   "cell_type": "markdown",
   "metadata": {},
   "source": [
    "### Expected order of magnitude"
   ]
  },
  {
   "cell_type": "markdown",
   "metadata": {},
   "source": [
    "To know the order of magnitude of the expected result, we can assume a constant value of the mean, during the total amount of time.\n",
    "\n",
    "To check how many seconds there are in total in that table:"
   ]
  },
  {
   "cell_type": "code",
   "execution_count": 38,
   "metadata": {
    "scrolled": true
   },
   "outputs": [
    {
     "data": {
      "text/plain": [
       "Timedelta('0 days 03:45:03')"
      ]
     },
     "execution_count": 38,
     "metadata": {},
     "output_type": "execute_result"
    }
   ],
   "source": [
    "( df.index.max() - df.index.min() )"
   ]
  },
  {
   "cell_type": "code",
   "execution_count": 39,
   "metadata": {},
   "outputs": [
    {
     "data": {
      "text/plain": [
       "13503"
      ]
     },
     "execution_count": 39,
     "metadata": {},
     "output_type": "execute_result"
    }
   ],
   "source": [
    "( df.index.max() - df.index.min() ).seconds"
   ]
  },
  {
   "cell_type": "markdown",
   "metadata": {},
   "source": [
    "The mean value is:"
   ]
  },
  {
   "cell_type": "code",
   "execution_count": 50,
   "metadata": {},
   "outputs": [
    {
     "data": {
      "text/plain": [
       "0.82607075635018756"
      ]
     },
     "execution_count": 50,
     "metadata": {},
     "output_type": "execute_result"
    }
   ],
   "source": [
    "df['net photosynthesis'].mean()"
   ]
  },
  {
   "cell_type": "markdown",
   "metadata": {},
   "source": [
    "If we had a constant assimilation rate of $0.826 \\mu mol \\cdot m^{-2} \\cdot s^{-1}$, during $13503$, we would have a total of:"
   ]
  },
  {
   "cell_type": "code",
   "execution_count": 52,
   "metadata": {},
   "outputs": [
    {
     "data": {
      "text/plain": [
       "11154.433422996583"
      ]
     },
     "execution_count": 52,
     "metadata": {},
     "output_type": "execute_result"
    }
   ],
   "source": [
    "df['net photosynthesis'].mean() * ( df.index.max() - df.index.min() ).seconds"
   ]
  },
  {
   "cell_type": "markdown",
   "metadata": {},
   "source": [
    "We expect a result around that value to be reasonable."
   ]
  },
  {
   "cell_type": "markdown",
   "metadata": {},
   "source": [
    "### Integration with the trapezoidal rule"
   ]
  },
  {
   "cell_type": "raw",
   "metadata": {},
   "source": [
    "integrate.trapz?"
   ]
  },
  {
   "cell_type": "markdown",
   "metadata": {},
   "source": [
    "The main thing to take care of is that `integrate.trapz` uses nanoseconds to integrate. That means that if $x$ has units of time, then $dx=1ns$."
   ]
  },
  {
   "cell_type": "code",
   "execution_count": 55,
   "metadata": {},
   "outputs": [
    {
     "data": {
      "text/plain": [
       "10783.429102673246"
      ]
     },
     "execution_count": 55,
     "metadata": {},
     "output_type": "execute_result"
    }
   ],
   "source": [
    "integrate.trapz( df['net photosynthesis'].values, x=df.index.astype(np.int64)/10**9 )"
   ]
  },
  {
   "cell_type": "markdown",
   "metadata": {},
   "source": [
    "As a reference, the simple sum of values on that column:"
   ]
  },
  {
   "cell_type": "code",
   "execution_count": 34,
   "metadata": {},
   "outputs": [
    {
     "data": {
      "text/plain": [
       "36.347113279408255"
      ]
     },
     "execution_count": 34,
     "metadata": {},
     "output_type": "execute_result"
    }
   ],
   "source": [
    "df['net photosynthesis'].sum()"
   ]
  },
  {
   "cell_type": "markdown",
   "metadata": {},
   "source": [
    "## Integrate for each full hour"
   ]
  },
  {
   "cell_type": "markdown",
   "metadata": {},
   "source": [
    "### Naïve integral"
   ]
  },
  {
   "cell_type": "markdown",
   "metadata": {},
   "source": [
    "Now that we know the mean value and the complete assimilation over the whole period, we know what to expect about the hourly values."
   ]
  },
  {
   "cell_type": "markdown",
   "metadata": {},
   "source": [
    "From the graph, we can have a first guess:\n",
    "\n",
    "We expect only the value at 13:00 to be negative.\n",
    "\n",
    "At 14:00 and 15:00 we can get a value around the reference, possibly below it. \n",
    "\n",
    "At 16:00 we will probably get a value above the reference, and at 17:00 we must get a value above, since all meareuments after 16:00 are bigger."
   ]
  },
  {
   "cell_type": "markdown",
   "metadata": {},
   "source": [
    "The reference is defined by the naïve method before: average $\\times$ number of seconds, and is:"
   ]
  },
  {
   "cell_type": "code",
   "execution_count": 60,
   "metadata": {},
   "outputs": [
    {
     "data": {
      "text/html": [
       "<div>\n",
       "<style scoped>\n",
       "    .dataframe tbody tr th:only-of-type {\n",
       "        vertical-align: middle;\n",
       "    }\n",
       "\n",
       "    .dataframe tbody tr th {\n",
       "        vertical-align: top;\n",
       "    }\n",
       "\n",
       "    .dataframe thead th {\n",
       "        text-align: right;\n",
       "    }\n",
       "</style>\n",
       "<table border=\"1\" class=\"dataframe\">\n",
       "  <thead>\n",
       "    <tr style=\"text-align: right;\">\n",
       "      <th></th>\n",
       "      <th>net photosynthesis</th>\n",
       "    </tr>\n",
       "    <tr>\n",
       "      <th>timestamp</th>\n",
       "      <th></th>\n",
       "    </tr>\n",
       "  </thead>\n",
       "  <tbody>\n",
       "    <tr>\n",
       "      <th>12</th>\n",
       "      <td>-0.351967</td>\n",
       "    </tr>\n",
       "    <tr>\n",
       "      <th>13</th>\n",
       "      <td>0.650660</td>\n",
       "    </tr>\n",
       "    <tr>\n",
       "      <th>14</th>\n",
       "      <td>0.800804</td>\n",
       "    </tr>\n",
       "    <tr>\n",
       "      <th>15</th>\n",
       "      <td>1.266589</td>\n",
       "    </tr>\n",
       "    <tr>\n",
       "      <th>16</th>\n",
       "      <td>0.957274</td>\n",
       "    </tr>\n",
       "  </tbody>\n",
       "</table>\n",
       "</div>"
      ],
      "text/plain": [
       "           net photosynthesis\n",
       "timestamp                    \n",
       "12                  -0.351967\n",
       "13                   0.650660\n",
       "14                   0.800804\n",
       "15                   1.266589\n",
       "16                   0.957274"
      ]
     },
     "execution_count": 60,
     "metadata": {},
     "output_type": "execute_result"
    }
   ],
   "source": [
    "df.groupby( by=df.index.hour ).mean()"
   ]
  },
  {
   "cell_type": "code",
   "execution_count": 81,
   "metadata": {},
   "outputs": [],
   "source": [
    "def secs( x ):\n",
    "    return ( x.index.max() - x.index.min() ).seconds"
   ]
  },
  {
   "cell_type": "code",
   "execution_count": 82,
   "metadata": {},
   "outputs": [
    {
     "data": {
      "text/html": [
       "<div>\n",
       "<style scoped>\n",
       "    .dataframe tbody tr th:only-of-type {\n",
       "        vertical-align: middle;\n",
       "    }\n",
       "\n",
       "    .dataframe tbody tr th {\n",
       "        vertical-align: top;\n",
       "    }\n",
       "\n",
       "    .dataframe thead th {\n",
       "        text-align: right;\n",
       "    }\n",
       "</style>\n",
       "<table border=\"1\" class=\"dataframe\">\n",
       "  <thead>\n",
       "    <tr style=\"text-align: right;\">\n",
       "      <th></th>\n",
       "      <th>net photosynthesis</th>\n",
       "    </tr>\n",
       "    <tr>\n",
       "      <th>timestamp</th>\n",
       "      <th></th>\n",
       "    </tr>\n",
       "  </thead>\n",
       "  <tbody>\n",
       "    <tr>\n",
       "      <th>12</th>\n",
       "      <td>1170.0</td>\n",
       "    </tr>\n",
       "    <tr>\n",
       "      <th>13</th>\n",
       "      <td>3310.0</td>\n",
       "    </tr>\n",
       "    <tr>\n",
       "      <th>14</th>\n",
       "      <td>3311.0</td>\n",
       "    </tr>\n",
       "    <tr>\n",
       "      <th>15</th>\n",
       "      <td>3306.0</td>\n",
       "    </tr>\n",
       "    <tr>\n",
       "      <th>16</th>\n",
       "      <td>1204.0</td>\n",
       "    </tr>\n",
       "  </tbody>\n",
       "</table>\n",
       "</div>"
      ],
      "text/plain": [
       "           net photosynthesis\n",
       "timestamp                    \n",
       "12                     1170.0\n",
       "13                     3310.0\n",
       "14                     3311.0\n",
       "15                     3306.0\n",
       "16                     1204.0"
      ]
     },
     "execution_count": 82,
     "metadata": {},
     "output_type": "execute_result"
    }
   ],
   "source": [
    "df.groupby( by=df.index.hour ).agg( secs )"
   ]
  },
  {
   "cell_type": "code",
   "execution_count": 83,
   "metadata": {},
   "outputs": [
    {
     "data": {
      "text/html": [
       "<div>\n",
       "<style scoped>\n",
       "    .dataframe tbody tr th:only-of-type {\n",
       "        vertical-align: middle;\n",
       "    }\n",
       "\n",
       "    .dataframe tbody tr th {\n",
       "        vertical-align: top;\n",
       "    }\n",
       "\n",
       "    .dataframe thead th {\n",
       "        text-align: right;\n",
       "    }\n",
       "</style>\n",
       "<table border=\"1\" class=\"dataframe\">\n",
       "  <thead>\n",
       "    <tr style=\"text-align: right;\">\n",
       "      <th></th>\n",
       "      <th>mean</th>\n",
       "      <th>seconds</th>\n",
       "      <th>naïve integral</th>\n",
       "    </tr>\n",
       "    <tr>\n",
       "      <th>timestamp</th>\n",
       "      <th></th>\n",
       "      <th></th>\n",
       "      <th></th>\n",
       "    </tr>\n",
       "  </thead>\n",
       "  <tbody>\n",
       "    <tr>\n",
       "      <th>12</th>\n",
       "      <td>-0.351967</td>\n",
       "      <td>1170.0</td>\n",
       "      <td>-411.801351</td>\n",
       "    </tr>\n",
       "    <tr>\n",
       "      <th>13</th>\n",
       "      <td>0.650660</td>\n",
       "      <td>3310.0</td>\n",
       "      <td>2153.685353</td>\n",
       "    </tr>\n",
       "    <tr>\n",
       "      <th>14</th>\n",
       "      <td>0.800804</td>\n",
       "      <td>3311.0</td>\n",
       "      <td>2651.462707</td>\n",
       "    </tr>\n",
       "    <tr>\n",
       "      <th>15</th>\n",
       "      <td>1.266589</td>\n",
       "      <td>3306.0</td>\n",
       "      <td>4187.343748</td>\n",
       "    </tr>\n",
       "    <tr>\n",
       "      <th>16</th>\n",
       "      <td>0.957274</td>\n",
       "      <td>1204.0</td>\n",
       "      <td>1152.558180</td>\n",
       "    </tr>\n",
       "  </tbody>\n",
       "</table>\n",
       "</div>"
      ],
      "text/plain": [
       "               mean  seconds  naïve integral\n",
       "timestamp                                   \n",
       "12        -0.351967   1170.0     -411.801351\n",
       "13         0.650660   3310.0     2153.685353\n",
       "14         0.800804   3311.0     2651.462707\n",
       "15         1.266589   3306.0     4187.343748\n",
       "16         0.957274   1204.0     1152.558180"
      ]
     },
     "execution_count": 83,
     "metadata": {},
     "output_type": "execute_result"
    }
   ],
   "source": [
    "df_mean_hours = df.groupby( by=df.index.hour ).mean()\n",
    "df_mean_hours[ 'seconds' ] = df.groupby( by=df.index.hour ).agg( secs )\n",
    "df_mean_hours.columns = [ 'mean', 'seconds' ]\n",
    "df_mean_hours[ 'naïve integral' ] = df_mean_hours['mean'] * df_mean_hours['seconds']\n",
    "df_mean_hours"
   ]
  },
  {
   "cell_type": "markdown",
   "metadata": {},
   "source": [
    "Ok, those are our reference values, if the photosynthesis were constant each hour (or we had a single measurement per hour, for that matter)."
   ]
  },
  {
   "cell_type": "markdown",
   "metadata": {},
   "source": [
    "### Trapezoidal rule"
   ]
  },
  {
   "cell_type": "code",
   "execution_count": 84,
   "metadata": {},
   "outputs": [],
   "source": [
    "def integrate_trapz( x ):\n",
    "    return integrate.trapz( x['net photosynthesis'].values, x=x.index.astype(np.int64)/10**9 )"
   ]
  },
  {
   "cell_type": "code",
   "execution_count": 86,
   "metadata": {},
   "outputs": [
    {
     "data": {
      "text/html": [
       "<div>\n",
       "<style scoped>\n",
       "    .dataframe tbody tr th:only-of-type {\n",
       "        vertical-align: middle;\n",
       "    }\n",
       "\n",
       "    .dataframe tbody tr th {\n",
       "        vertical-align: top;\n",
       "    }\n",
       "\n",
       "    .dataframe thead th {\n",
       "        text-align: right;\n",
       "    }\n",
       "</style>\n",
       "<table border=\"1\" class=\"dataframe\">\n",
       "  <thead>\n",
       "    <tr style=\"text-align: right;\">\n",
       "      <th></th>\n",
       "      <th>net photosynthesis</th>\n",
       "    </tr>\n",
       "    <tr>\n",
       "      <th>timestamp</th>\n",
       "      <th></th>\n",
       "    </tr>\n",
       "  </thead>\n",
       "  <tbody>\n",
       "    <tr>\n",
       "      <th>12</th>\n",
       "      <td>-213.088193</td>\n",
       "    </tr>\n",
       "    <tr>\n",
       "      <th>13</th>\n",
       "      <td>2308.355138</td>\n",
       "    </tr>\n",
       "    <tr>\n",
       "      <th>14</th>\n",
       "      <td>2801.957852</td>\n",
       "    </tr>\n",
       "    <tr>\n",
       "      <th>15</th>\n",
       "      <td>4440.994681</td>\n",
       "    </tr>\n",
       "    <tr>\n",
       "      <th>16</th>\n",
       "      <td>1160.476411</td>\n",
       "    </tr>\n",
       "  </tbody>\n",
       "</table>\n",
       "</div>"
      ],
      "text/plain": [
       "           net photosynthesis\n",
       "timestamp                    \n",
       "12                -213.088193\n",
       "13                2308.355138\n",
       "14                2801.957852\n",
       "15                4440.994681\n",
       "16                1160.476411"
      ]
     },
     "execution_count": 86,
     "metadata": {},
     "output_type": "execute_result"
    }
   ],
   "source": [
    "df_trapz_hours = df.groupby( by=df.index.hour ).agg( integrate_trapz )\n",
    "df_trapz_hours"
   ]
  },
  {
   "cell_type": "markdown",
   "metadata": {},
   "source": [
    "That's the result! \n",
    "\n",
    "The next code is only to make it easier to plot those data."
   ]
  },
  {
   "cell_type": "code",
   "execution_count": 129,
   "metadata": {},
   "outputs": [
    {
     "data": {
      "text/html": [
       "<div>\n",
       "<style scoped>\n",
       "    .dataframe tbody tr th:only-of-type {\n",
       "        vertical-align: middle;\n",
       "    }\n",
       "\n",
       "    .dataframe tbody tr th {\n",
       "        vertical-align: top;\n",
       "    }\n",
       "\n",
       "    .dataframe thead th {\n",
       "        text-align: right;\n",
       "    }\n",
       "</style>\n",
       "<table border=\"1\" class=\"dataframe\">\n",
       "  <thead>\n",
       "    <tr style=\"text-align: right;\">\n",
       "      <th></th>\n",
       "      <th>average</th>\n",
       "      <th>naïve</th>\n",
       "    </tr>\n",
       "  </thead>\n",
       "  <tbody>\n",
       "    <tr>\n",
       "      <th>2018-02-07 12:36:43</th>\n",
       "      <td>-213.088</td>\n",
       "      <td>-411.801</td>\n",
       "    </tr>\n",
       "    <tr>\n",
       "      <th>2018-02-07 12:41:43</th>\n",
       "      <td>-213.088</td>\n",
       "      <td>-411.801</td>\n",
       "    </tr>\n",
       "    <tr>\n",
       "      <th>2018-02-07 12:46:43</th>\n",
       "      <td>-213.088</td>\n",
       "      <td>-411.801</td>\n",
       "    </tr>\n",
       "    <tr>\n",
       "      <th>2018-02-07 12:51:43</th>\n",
       "      <td>-213.088</td>\n",
       "      <td>-411.801</td>\n",
       "    </tr>\n",
       "    <tr>\n",
       "      <th>2018-02-07 12:56:43</th>\n",
       "      <td>-213.088</td>\n",
       "      <td>-411.801</td>\n",
       "    </tr>\n",
       "  </tbody>\n",
       "</table>\n",
       "</div>"
      ],
      "text/plain": [
       "                     average    naïve\n",
       "2018-02-07 12:36:43 -213.088 -411.801\n",
       "2018-02-07 12:41:43 -213.088 -411.801\n",
       "2018-02-07 12:46:43 -213.088 -411.801\n",
       "2018-02-07 12:51:43 -213.088 -411.801\n",
       "2018-02-07 12:56:43 -213.088 -411.801"
      ]
     },
     "execution_count": 129,
     "metadata": {},
     "output_type": "execute_result"
    }
   ],
   "source": [
    "timeindex = pd.DatetimeIndex( start=df.index.min(), end=df.index.max(), freq='5min' )\n",
    "\n",
    "df_int = pd.DataFrame( index=timeindex, columns=['average', 'naïve'] )\n",
    "\n",
    "for item in df_trapz_hours.index:\n",
    "    df_int.loc[ df_int.index.hour==item, 'average'] = df_trapz_hours.loc[item]['net photosynthesis']\n",
    "    df_int.loc[ df_int.index.hour==item, 'naïve'] = df_mean_hours.loc[item][ 'naïve integral' ]    \n",
    "\n",
    "df_int.head()"
   ]
  },
  {
   "cell_type": "code",
   "execution_count": 136,
   "metadata": {},
   "outputs": [
    {
     "data": {
      "image/png": "[encoded data removed]",
      "text/plain": [
       "<matplotlib.figure.Figure at 0x7f262bc2d7b8>"
      ]
     },
     "metadata": {},
     "output_type": "display_data"
    }
   ],
   "source": [
    "fig, ax = plt.subplots( figsize=( 20,7 ) )\n",
    "\n",
    "ax.hlines( 0, df.index.min(), df.index.max(), color='black', linewidth=3, label='' ) # horizontal axis\n",
    "\n",
    "ax.plot( df.index, df['net photosynthesis'], linewidth=3, color='green', label='' )\n",
    "ax.plot( df.index, df['net photosynthesis'], linewidth=0, marker='o', markersize=10, color='black', label='measurements' )\n",
    "ax.vlines( df.index, df['net photosynthesis'], 0, linewidth=0.5, label='' )\n",
    "\n",
    "ax.hlines( df['net photosynthesis'].mean(), df.index.min(), df.index.max(), color='red', linestyle='--', linewidth=3, label='overall mean' )\n",
    "\n",
    "axR = ax.twinx()\n",
    "axR.yaxis.tick_right()\n",
    "axR.plot( df_int.index, df_int['average'], linewidth=3, color='blue', label='integrated hourly value' )\n",
    "axR.plot( df_int.index, df_int['naïve'], linewidth=3, linestyle='--', color='orange', label='naïve hourly value' )\n",
    "\n",
    "ax.xaxis.set_major_locator( mdates.HourLocator() )\n",
    "ax.xaxis.set_major_formatter( mdates.DateFormatter('%H:%M') )\n",
    "ax.tick_params( axis='both', which='major', labelsize=16 )\n",
    "\n",
    "ax.legend( loc='upper left', fontsize=16 )\n",
    "ax.grid()\n",
    "axR.legend( loc='upper center', fontsize=16 )\n",
    "\n",
    "plt.show()"
   ]
  },
  {
   "cell_type": "markdown",
   "metadata": {},
   "source": [
    "---"
   ]
  }
 ],
 "metadata": {
  "kernelspec": {
   "display_name": "Python 3",
   "language": "python",
   "name": "python3"
  },
  "language_info": {
   "codemirror_mode": {
    "name": "ipython",
    "version": 3
   },
   "file_extension": ".py",
   "mimetype": "text/x-python",
   "name": "python",
   "nbconvert_exporter": "python",
   "pygments_lexer": "ipython3",
   "version": "3.6.7"
  },
  "toc": {
   "base_numbering": 1,
   "nav_menu": {},
   "number_sections": true,
   "sideBar": true,
   "skip_h1_title": true,
   "title_cell": "Table of Contents",
   "title_sidebar": "Contents",
   "toc_cell": false,
   "toc_position": {},
   "toc_section_display": true,
   "toc_window_display": false
  }
 },
 "nbformat": 4,
 "nbformat_minor": 2
}
